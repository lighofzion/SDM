{
 "cells": [
  {
   "cell_type": "code",
   "execution_count": 82,
   "metadata": {},
   "outputs": [],
   "source": [
    "import pandas as pd\n",
    "import numpy as np\n",
    "import matplotlib.pyplot as plt\n",
    "import seaborn as sns\n",
    "import re\n",
    "import os\n",
    "from datetime import datetime\n",
    "import psycopg2\n",
    "from psycopg2.extras import execute_values\n",
    "from sqlalchemy import create_engine\n",
    "import warnings\n",
    "import os\n",
    "import pandas as pd\n",
    "from fuzzywuzzy import process\n",
    "import asyncio\n",
    "import nest_asyncio\n",
    "from googletrans import Translator\n",
    "\n",
    "\n",
    "warnings.filterwarnings('ignore')\n"
   ]
  },
  {
   "cell_type": "code",
   "execution_count": 2,
   "metadata": {},
   "outputs": [],
   "source": [
    "pd.set_option('display.max_columns', None)\n",
    "pd.set_option('display.max_rows', 100)\n",
    "pd.set_option('display.width', 1000)\n",
    "pd.set_option('display.float_format', '{:.2f}'.format)"
   ]
  },
  {
   "cell_type": "code",
   "execution_count": 134,
   "metadata": {},
   "outputs": [],
   "source": [
    "file_path = r'C:\\Users\\Vignesh\\Desktop\\SDM\\models\\data\\raw_data.csv'  \n",
    "sheet_name = 'raw_data'"
   ]
  },
  {
   "cell_type": "code",
   "execution_count": 135,
   "metadata": {},
   "outputs": [],
   "source": [
    "nest_asyncio.apply()\n",
    "\n",
    "def translate_sync(text, translator, src='ko', dest='en'):\n",
    "    \"\"\"\n",
    "    Synchronously translate text using the asynchronous translator.\n",
    "    \"\"\"\n",
    "    loop = asyncio.get_event_loop()\n",
    "    result = loop.run_until_complete(translator.translate(text, src=src, dest=dest))\n",
    "    return result\n",
    "\n",
    "def read_spreadsheet_with_fuzzy_matching(file_path, sheet_name=None, target_columns=None):\n",
    "    \"\"\"\n",
    "    Read spreadsheet data with fuzzy column name matching, automatically translating\n",
    "    any Korean column names to English, and stop at the first completely empty row.\n",
    "    \n",
    "    Parameters:\n",
    "        file_path: Path to the spreadsheet file.\n",
    "        sheet_name: Name of the sheet to read (for Excel files).\n",
    "        target_columns: List of target column names to match (e.g., [\"SCJ-NUMBER\", \"Name\", \"BIRTH\"]).\n",
    "        \n",
    "    Returns:\n",
    "        pandas DataFrame with selected data.\n",
    "    \"\"\"\n",
    "    file_ext = os.path.splitext(file_path)[1].lower()\n",
    "    \n",
    "    # Read file to get raw data and headers\n",
    "    if file_ext in ['.xlsx', '.xls']:\n",
    "        raw_data = pd.read_excel(file_path, sheet_name=sheet_name, header=None)\n",
    "        header_row = 0  # Assume headers are in the first row\n",
    "    elif file_ext == '.csv':\n",
    "        raw_data = pd.read_csv(file_path, header=None)\n",
    "        header_row = 0\n",
    "    else:\n",
    "        raise ValueError(f\"Unsupported file format: {file_ext}\")\n",
    "    \n",
    "    # Find the first completely empty row\n",
    "    empty_rows = raw_data.isna().all(axis=1)\n",
    "    if empty_rows.any():\n",
    "        first_empty_row = empty_rows.idxmax()\n",
    "        print(f\"First completely empty row detected at row {first_empty_row}\")\n",
    "    else:\n",
    "        first_empty_row = len(raw_data)\n",
    "        print(\"No empty rows detected, using all data\")\n",
    "    \n",
    "    # Re-read the file up to the first empty row\n",
    "    if file_ext in ['.xlsx', '.xls']:\n",
    "        df = pd.read_excel(file_path, sheet_name=sheet_name, nrows=first_empty_row - header_row - 1)\n",
    "    elif file_ext == '.csv':\n",
    "        df = pd.read_csv(file_path, nrows=first_empty_row - header_row - 1)\n",
    "    \n",
    "    # Translate column names (if they contain Korean characters)\n",
    "    translator = Translator()\n",
    "    new_columns = {}\n",
    "    for col in df.columns:\n",
    "        if any('\\uac00' <= ch <= '\\ud7a3' for ch in str(col)):\n",
    "            try:\n",
    "                result = translate_sync(col, translator, src='ko', dest='en')\n",
    "                new_columns[col] = result.text\n",
    "                print(f\"Translated '{col}' to '{result.text}'\")\n",
    "            except Exception as e:\n",
    "                print(f\"Error translating column '{col}': {e}. Keeping original.\")\n",
    "                new_columns[col] = col\n",
    "        else:\n",
    "            new_columns[col] = col\n",
    "    df.rename(columns=new_columns, inplace=True)\n",
    "    df.columns = df.columns.str.lower().str.strip()\n",
    "\n",
    "    \n",
    "    # If no target columns specified, return the full DataFrame\n",
    "    if not target_columns:\n",
    "        return df\n",
    "    \n",
    "    # Fuzzy match the target columns to actual DataFrame columns\n",
    "    matched_columns = {}\n",
    "    actual_columns = df.columns.tolist()\n",
    "    for target in target_columns:\n",
    "        best_match, score = process.extractOne(target, actual_columns)\n",
    "        print(f\"Matched '{target}' to '{best_match}' with score {score}\")\n",
    "        matched_columns[target] = best_match\n",
    "    \n",
    "    # Select only the matched columns\n",
    "    selected_columns = list(matched_columns.values())\n",
    "    if len(selected_columns) < len(target_columns):\n",
    "        print(\"Warning: Could not find matches for all target columns\")\n",
    "        \n",
    "    result_df = df[selected_columns]\n",
    "    \n",
    "    # Replace forward slashes with dots in the \"Name\" column (if it exists)\n",
    "    name_column = matched_columns.get(\"Name\")\n",
    "    if name_column in result_df.columns:\n",
    "        result_df[name_column] = result_df[name_column].str.replace('/', '.', regex=False)\n",
    "    \n",
    "    return result_df\n"
   ]
  },
  {
   "cell_type": "code",
   "execution_count": 136,
   "metadata": {},
   "outputs": [],
   "source": [
    "target_columns = [\n",
    "    \"scj-number\", \n",
    "    \"name\", \n",
    "    \"birth\", \n",
    "    \"phone\", \n",
    "    \"department\", \n",
    "    \"team\", \n",
    "    \"new cell grp\", \n",
    "    \"special note\", \n",
    "    \"office\"\n",
    "]\n"
   ]
  },
  {
   "cell_type": "code",
   "execution_count": 137,
   "metadata": {},
   "outputs": [
    {
     "name": "stdout",
     "output_type": "stream",
     "text": [
      "First completely empty row detected at row 842\n",
      "Translated '직분' to 'Office'\n",
      "Translated '총등,교등,입교' to 'Total light, school, enrollment'\n",
      "Translated 'Sunday Service\n",
      " '11/26\n",
      " 정시예배 1\n",
      " replay\n",
      " recording' to 'Sunday Service\n",
      " '11/26\n",
      " On -time worship 1\n",
      " Replay\n",
      " Recording'\n",
      "Matched 'scj-number' to 'scj-number' with score 100\n",
      "Matched 'name' to 'name' with score 100\n",
      "Matched 'birth' to 'birth' with score 100\n",
      "Matched 'phone' to 'phone no' with score 90\n",
      "Matched 'department' to 'department' with score 100\n",
      "Matched 'team' to 'team' with score 100\n",
      "Matched 'new cell grp' to 'new cell grp' with score 100\n",
      "Matched 'special note' to 'special note' with score 100\n",
      "Matched 'office' to 'office' with score 100\n"
     ]
    }
   ],
   "source": [
    "try:\n",
    "    # First attempt to read with column names \n",
    "    # lower col names\n",
    "    df = read_spreadsheet_with_fuzzy_matching(file_path, sheet_name, target_columns)\n",
    "except (ValueError, KeyError) as e:\n",
    "    print(f\"Could not read with column names: {str(e)}\")\n",
    "    \n"
   ]
  },
  {
   "cell_type": "code",
   "execution_count": 138,
   "metadata": {},
   "outputs": [
    {
     "name": "stdout",
     "output_type": "stream",
     "text": [
      "\n",
      "=== Data Overview ===\n",
      "Rows: 841, Columns: 9\n",
      "\n",
      "=== Column Names ===\n",
      "['scj-number', 'name', 'birth', 'phone no', 'department', 'team', 'new cell grp', 'special note', 'office']\n"
     ]
    }
   ],
   "source": [
    "print(\"\\n=== Data Overview ===\")\n",
    "print(f\"Rows: {df.shape[0]}, Columns: {df.shape[1]}\")\n",
    "print(\"\\n=== Column Names ===\")\n",
    "print(df.columns.tolist())"
   ]
  },
  {
   "cell_type": "code",
   "execution_count": 139,
   "metadata": {},
   "outputs": [
    {
     "name": "stdout",
     "output_type": "stream",
     "text": [
      "\n",
      "=== Data Types and Missing Values ===\n"
     ]
    },
    {
     "data": {
      "text/html": [
       "<div>\n",
       "<style scoped>\n",
       "    .dataframe tbody tr th:only-of-type {\n",
       "        vertical-align: middle;\n",
       "    }\n",
       "\n",
       "    .dataframe tbody tr th {\n",
       "        vertical-align: top;\n",
       "    }\n",
       "\n",
       "    .dataframe thead th {\n",
       "        text-align: right;\n",
       "    }\n",
       "</style>\n",
       "<table border=\"1\" class=\"dataframe\">\n",
       "  <thead>\n",
       "    <tr style=\"text-align: right;\">\n",
       "      <th></th>\n",
       "      <th>Data Type</th>\n",
       "      <th>Missing Values</th>\n",
       "      <th>Missing Percentage</th>\n",
       "    </tr>\n",
       "  </thead>\n",
       "  <tbody>\n",
       "    <tr>\n",
       "      <th>scj-number</th>\n",
       "      <td>object</td>\n",
       "      <td>0</td>\n",
       "      <td>0.00</td>\n",
       "    </tr>\n",
       "    <tr>\n",
       "      <th>name</th>\n",
       "      <td>object</td>\n",
       "      <td>0</td>\n",
       "      <td>0.00</td>\n",
       "    </tr>\n",
       "    <tr>\n",
       "      <th>birth</th>\n",
       "      <td>float64</td>\n",
       "      <td>4</td>\n",
       "      <td>0.48</td>\n",
       "    </tr>\n",
       "    <tr>\n",
       "      <th>phone no</th>\n",
       "      <td>object</td>\n",
       "      <td>745</td>\n",
       "      <td>88.59</td>\n",
       "    </tr>\n",
       "    <tr>\n",
       "      <th>department</th>\n",
       "      <td>object</td>\n",
       "      <td>54</td>\n",
       "      <td>6.42</td>\n",
       "    </tr>\n",
       "    <tr>\n",
       "      <th>team</th>\n",
       "      <td>object</td>\n",
       "      <td>24</td>\n",
       "      <td>2.85</td>\n",
       "    </tr>\n",
       "    <tr>\n",
       "      <th>new cell grp</th>\n",
       "      <td>object</td>\n",
       "      <td>20</td>\n",
       "      <td>2.38</td>\n",
       "    </tr>\n",
       "    <tr>\n",
       "      <th>special note</th>\n",
       "      <td>object</td>\n",
       "      <td>839</td>\n",
       "      <td>99.76</td>\n",
       "    </tr>\n",
       "    <tr>\n",
       "      <th>office</th>\n",
       "      <td>object</td>\n",
       "      <td>740</td>\n",
       "      <td>87.99</td>\n",
       "    </tr>\n",
       "  </tbody>\n",
       "</table>\n",
       "</div>"
      ],
      "text/plain": [
       "             Data Type  Missing Values  Missing Percentage\n",
       "scj-number      object               0                0.00\n",
       "name            object               0                0.00\n",
       "birth          float64               4                0.48\n",
       "phone no        object             745               88.59\n",
       "department      object              54                6.42\n",
       "team            object              24                2.85\n",
       "new cell grp    object              20                2.38\n",
       "special note    object             839               99.76\n",
       "office          object             740               87.99"
      ]
     },
     "metadata": {},
     "output_type": "display_data"
    }
   ],
   "source": [
    "print(\"\\n=== Data Types and Missing Values ===\")\n",
    "missing_data = pd.DataFrame({\n",
    "    'Data Type': df.dtypes,\n",
    "    'Missing Values': df.isnull().sum(),\n",
    "    'Missing Percentage': (df.isnull().sum() / len(df) * 100).round(2)\n",
    "})\n",
    "display(missing_data)"
   ]
  },
  {
   "cell_type": "code",
   "execution_count": 140,
   "metadata": {},
   "outputs": [
    {
     "name": "stdout",
     "output_type": "stream",
     "text": [
      "\n",
      "=== Data Preview ===\n"
     ]
    },
    {
     "data": {
      "text/html": [
       "<div>\n",
       "<style scoped>\n",
       "    .dataframe tbody tr th:only-of-type {\n",
       "        vertical-align: middle;\n",
       "    }\n",
       "\n",
       "    .dataframe tbody tr th {\n",
       "        vertical-align: top;\n",
       "    }\n",
       "\n",
       "    .dataframe thead th {\n",
       "        text-align: right;\n",
       "    }\n",
       "</style>\n",
       "<table border=\"1\" class=\"dataframe\">\n",
       "  <thead>\n",
       "    <tr style=\"text-align: right;\">\n",
       "      <th></th>\n",
       "      <th>scj-number</th>\n",
       "      <th>name</th>\n",
       "      <th>birth</th>\n",
       "      <th>phone no</th>\n",
       "      <th>department</th>\n",
       "      <th>team</th>\n",
       "      <th>new cell grp</th>\n",
       "      <th>special note</th>\n",
       "      <th>office</th>\n",
       "    </tr>\n",
       "  </thead>\n",
       "  <tbody>\n",
       "    <tr>\n",
       "      <th>0</th>\n",
       "      <td>00371211-01006</td>\n",
       "      <td>Priscilla Nishi J /</td>\n",
       "      <td>951205.00</td>\n",
       "      <td>NaN</td>\n",
       "      <td>Young adults / Instructor</td>\n",
       "      <td>Educators</td>\n",
       "      <td>Educators</td>\n",
       "      <td>NaN</td>\n",
       "      <td>HQ registration</td>\n",
       "    </tr>\n",
       "    <tr>\n",
       "      <th>1</th>\n",
       "      <td>00371211-01029</td>\n",
       "      <td>Theodore Williams /</td>\n",
       "      <td>227.00</td>\n",
       "      <td>NaN</td>\n",
       "      <td>Young adults / Instructor</td>\n",
       "      <td>Educators</td>\n",
       "      <td>Educators</td>\n",
       "      <td>NaN</td>\n",
       "      <td>HQ registration</td>\n",
       "    </tr>\n",
       "    <tr>\n",
       "      <th>2</th>\n",
       "      <td>00381126-00718</td>\n",
       "      <td>christopher / John</td>\n",
       "      <td>21027.00</td>\n",
       "      <td>NaN</td>\n",
       "      <td>Young adults</td>\n",
       "      <td>Educators</td>\n",
       "      <td>Educators</td>\n",
       "      <td>NaN</td>\n",
       "      <td>HQ registration</td>\n",
       "    </tr>\n",
       "    <tr>\n",
       "      <th>3</th>\n",
       "      <td>00381126-00760</td>\n",
       "      <td>Sophia / Christina</td>\n",
       "      <td>501.00</td>\n",
       "      <td>NaN</td>\n",
       "      <td>Young adults</td>\n",
       "      <td>Educators</td>\n",
       "      <td>Educators</td>\n",
       "      <td>NaN</td>\n",
       "      <td>HQ registration</td>\n",
       "    </tr>\n",
       "    <tr>\n",
       "      <th>4</th>\n",
       "      <td>00381126-00764</td>\n",
       "      <td>/ Sofia</td>\n",
       "      <td>10920.00</td>\n",
       "      <td>NaN</td>\n",
       "      <td>Young adults</td>\n",
       "      <td>Educators</td>\n",
       "      <td>Educators</td>\n",
       "      <td>NaN</td>\n",
       "      <td>HQ registration</td>\n",
       "    </tr>\n",
       "  </tbody>\n",
       "</table>\n",
       "</div>"
      ],
      "text/plain": [
       "       scj-number                 name     birth phone no                 department       team new cell grp special note           office\n",
       "0  00371211-01006  Priscilla Nishi J / 951205.00      NaN  Young adults / Instructor  Educators    Educators          NaN  HQ registration\n",
       "1  00371211-01029  Theodore Williams /    227.00      NaN  Young adults / Instructor  Educators    Educators          NaN  HQ registration\n",
       "2  00381126-00718   christopher / John  21027.00      NaN               Young adults  Educators    Educators          NaN  HQ registration\n",
       "3  00381126-00760   Sophia / Christina    501.00      NaN               Young adults  Educators    Educators          NaN  HQ registration\n",
       "4  00381126-00764              / Sofia  10920.00      NaN               Young adults  Educators    Educators          NaN  HQ registration"
      ]
     },
     "metadata": {},
     "output_type": "display_data"
    }
   ],
   "source": [
    "print(\"\\n=== Data Preview ===\")\n",
    "display(df.head())"
   ]
  },
  {
   "cell_type": "code",
   "execution_count": 141,
   "metadata": {},
   "outputs": [],
   "source": [
    "def add_metadata_columns(df):\n",
    "    \"\"\"Add metadata columns for tracking\"\"\"\n",
    "    df['loaded_at'] = datetime.now()\n",
    "    df['source_file'] = os.path.basename(file_path)\n",
    "    return df"
   ]
  },
  {
   "cell_type": "code",
   "execution_count": 142,
   "metadata": {},
   "outputs": [
    {
     "name": "stdout",
     "output_type": "stream",
     "text": [
      "\n",
      "=== Cleaning and Transforming Data ===\n"
     ]
    }
   ],
   "source": [
    "print(\"\\n=== Cleaning and Transforming Data ===\")\n",
    "\n",
    "# Make a copy of the original data\n",
    "df_original = df.copy()"
   ]
  },
  {
   "cell_type": "code",
   "execution_count": 143,
   "metadata": {},
   "outputs": [
    {
     "name": "stdout",
     "output_type": "stream",
     "text": [
      "Added metadata columns\n"
     ]
    },
    {
     "data": {
      "text/html": [
       "<div>\n",
       "<style scoped>\n",
       "    .dataframe tbody tr th:only-of-type {\n",
       "        vertical-align: middle;\n",
       "    }\n",
       "\n",
       "    .dataframe tbody tr th {\n",
       "        vertical-align: top;\n",
       "    }\n",
       "\n",
       "    .dataframe thead th {\n",
       "        text-align: right;\n",
       "    }\n",
       "</style>\n",
       "<table border=\"1\" class=\"dataframe\">\n",
       "  <thead>\n",
       "    <tr style=\"text-align: right;\">\n",
       "      <th></th>\n",
       "      <th>scj-number</th>\n",
       "      <th>name</th>\n",
       "      <th>birth</th>\n",
       "      <th>phone no</th>\n",
       "      <th>department</th>\n",
       "      <th>team</th>\n",
       "      <th>new cell grp</th>\n",
       "      <th>special note</th>\n",
       "      <th>office</th>\n",
       "      <th>loaded_at</th>\n",
       "      <th>source_file</th>\n",
       "    </tr>\n",
       "  </thead>\n",
       "  <tbody>\n",
       "    <tr>\n",
       "      <th>839</th>\n",
       "      <td>00420123-02088</td>\n",
       "      <td>Sudalaimuthu</td>\n",
       "      <td>20000000.00</td>\n",
       "      <td>91)636-949-2003</td>\n",
       "      <td>Youth</td>\n",
       "      <td>men</td>\n",
       "      <td>ASM 01</td>\n",
       "      <td>NaN</td>\n",
       "      <td>NaN</td>\n",
       "      <td>2025-03-09 12:18:36.205317</td>\n",
       "      <td>raw_data.csv</td>\n",
       "    </tr>\n",
       "    <tr>\n",
       "      <th>840</th>\n",
       "      <td>00311213-00174</td>\n",
       "      <td>Rosa</td>\n",
       "      <td>20000000.00</td>\n",
       "      <td>NaN</td>\n",
       "      <td>NaN</td>\n",
       "      <td>NaN</td>\n",
       "      <td>ANY 07</td>\n",
       "      <td>NaN</td>\n",
       "      <td>NaN</td>\n",
       "      <td>2025-03-09 12:18:36.205317</td>\n",
       "      <td>raw_data.csv</td>\n",
       "    </tr>\n",
       "  </tbody>\n",
       "</table>\n",
       "</div>"
      ],
      "text/plain": [
       "         scj-number          name       birth         phone no department team new cell grp special note office                  loaded_at   source_file\n",
       "839  00420123-02088  Sudalaimuthu 20000000.00  91)636-949-2003      Youth  men       ASM 01          NaN    NaN 2025-03-09 12:18:36.205317  raw_data.csv\n",
       "840  00311213-00174          Rosa 20000000.00              NaN        NaN  NaN       ANY 07          NaN    NaN 2025-03-09 12:18:36.205317  raw_data.csv"
      ]
     },
     "execution_count": 143,
     "metadata": {},
     "output_type": "execute_result"
    }
   ],
   "source": [
    "df = add_metadata_columns(df)\n",
    "print(\"Added metadata columns\")\n",
    "df.tail(2)"
   ]
  },
  {
   "cell_type": "code",
   "execution_count": 144,
   "metadata": {},
   "outputs": [
    {
     "name": "stdout",
     "output_type": "stream",
     "text": [
      "\n",
      "=== Transformation Complete ===\n",
      "New shape: (841, 11)\n"
     ]
    }
   ],
   "source": [
    "print(\"\\n=== Transformation Complete ===\")\n",
    "print(f\"New shape: {df.shape}\")\n"
   ]
  },
  {
   "cell_type": "code",
   "execution_count": 145,
   "metadata": {},
   "outputs": [
    {
     "name": "stdout",
     "output_type": "stream",
     "text": [
      "\n",
      "=== Loading Data to Supabase ===\n"
     ]
    }
   ],
   "source": [
    "print(\"\\n=== Loading Data to Supabase ===\")\n",
    "\n",
    "# Database connection parameters\n",
    "db_params = {\n",
    "    'host': 'aws-0-ap-southeast-1.pooler.supabase.com',  # Update with your Supabase host\n",
    "    'port': 5432,\n",
    "    'dbname': 'postgres',\n",
    "    'user': 'postgres.lqugerdmxqpvigfchfgz',  # Update with your Supabase user\n",
    "    'password': 'India144000a##'  # Update with your Supabase password\n",
    "}"
   ]
  },
  {
   "cell_type": "code",
   "execution_count": 146,
   "metadata": {},
   "outputs": [
    {
     "name": "stdout",
     "output_type": "stream",
     "text": [
      "Loading data to table 'public.staging_data'\n"
     ]
    }
   ],
   "source": [
    "schema_name = 'public'  # Update if needed\n",
    "table_name = 'staging_data'  # Update with your staging table name\n",
    "full_table_name = f\"{schema_name}.{table_name}\"\n",
    "print(f\"Loading data to table '{full_table_name}'\")"
   ]
  },
  {
   "cell_type": "code",
   "execution_count": 147,
   "metadata": {},
   "outputs": [
    {
     "name": "stdout",
     "output_type": "stream",
     "text": [
      "Data loaded to public.staging_data using SQLAlchemy\n",
      "\n",
      "=== Summary ===\n",
      "Processed 841 rows with 11 columns\n",
      "Selected columns only: ['scj-number', 'name', 'birth', 'phone no', 'department', 'team', 'new cell grp', 'special note', 'office', 'loaded_at', 'source_file']\n",
      "Stopped reading at first empty row\n",
      "Data ready for loading to Supabase staging table: public.staging_data\n"
     ]
    }
   ],
   "source": [
    "engine = create_engine(f\"postgresql://{db_params['user']}:{db_params['password']}@{db_params['host']}:{db_params['port']}/{db_params['dbname']}\")\n",
    "\n",
    "# Load data directly with pandas\n",
    "df.to_sql(\n",
    "    table_name, \n",
    "    engine, \n",
    "    schema=schema_name,\n",
    "    if_exists='replace',  # 'replace' to recreate the table, 'append' to add to existing\n",
    "    index=False\n",
    ")\n",
    "\n",
    "print(f\"Data loaded to {full_table_name} using SQLAlchemy\")\n",
    "\n",
    "print(\"\\n=== Summary ===\")\n",
    "print(f\"Processed {df.shape[0]} rows with {df.shape[1]} columns\")\n",
    "print(f\"Selected columns only: {df.columns.tolist()}\")\n",
    "print(f\"Stopped reading at first empty row\")\n",
    "print(f\"Data ready for loading to Supabase staging table: {full_table_name}\")"
   ]
  },
  {
   "cell_type": "code",
   "execution_count": null,
   "metadata": {},
   "outputs": [],
   "source": []
  }
 ],
 "metadata": {
  "kernelspec": {
   "display_name": "Python 3",
   "language": "python",
   "name": "python3"
  },
  "language_info": {
   "codemirror_mode": {
    "name": "ipython",
    "version": 3
   },
   "file_extension": ".py",
   "mimetype": "text/x-python",
   "name": "python",
   "nbconvert_exporter": "python",
   "pygments_lexer": "ipython3",
   "version": "3.10.11"
  }
 },
 "nbformat": 4,
 "nbformat_minor": 2
}
